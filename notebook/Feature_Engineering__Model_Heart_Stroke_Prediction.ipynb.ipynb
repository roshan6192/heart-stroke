{
 "cells": [
  {
   "cell_type": "markdown",
   "id": "4db2812d-02a4-4b83-9ff8-45183fed92b2",
   "metadata": {},
   "source": [
    "**Data Pre-Processing**"
   ]
  },
  {
   "cell_type": "code",
   "execution_count": 1,
   "id": "e43c9f63-078e-4521-ba4a-8cb4ad787a10",
   "metadata": {},
   "outputs": [
    {
     "name": "stdout",
     "output_type": "stream",
     "text": [
      "(5110, 12)\n"
     ]
    }
   ],
   "source": [
    "import pandas as pd\n",
    "import numpy as np\n",
    "import matplotlib.pyplot as plt\n",
    "import seaborn as sns\n",
    "import warnings\n",
    "warnings.filterwarnings(\"ignore\")\n",
    "pd.pandas.set_option(\"display.max_columns\", None)\n",
    "# Create Dataframe\n",
    "df = pd.read_csv(\"data/healthcare-dataset-stroke-data.csv\")\n",
    "# Print shape of dataset\n",
    "print(df.shape)"
   ]
  },
  {
   "cell_type": "code",
   "execution_count": 2,
   "id": "0c61c902-8c48-42d9-b668-20be769df4fe",
   "metadata": {},
   "outputs": [
    {
     "data": {
      "text/html": [
       "<div>\n",
       "<style scoped>\n",
       "    .dataframe tbody tr th:only-of-type {\n",
       "        vertical-align: middle;\n",
       "    }\n",
       "\n",
       "    .dataframe tbody tr th {\n",
       "        vertical-align: top;\n",
       "    }\n",
       "\n",
       "    .dataframe thead th {\n",
       "        text-align: right;\n",
       "    }\n",
       "</style>\n",
       "<table border=\"1\" class=\"dataframe\">\n",
       "  <thead>\n",
       "    <tr style=\"text-align: right;\">\n",
       "      <th></th>\n",
       "      <th>id</th>\n",
       "      <th>gender</th>\n",
       "      <th>age</th>\n",
       "      <th>hypertension</th>\n",
       "      <th>heart_disease</th>\n",
       "      <th>ever_married</th>\n",
       "      <th>work_type</th>\n",
       "      <th>Residence_type</th>\n",
       "      <th>avg_glucose_level</th>\n",
       "      <th>bmi</th>\n",
       "      <th>smoking_status</th>\n",
       "      <th>stroke</th>\n",
       "    </tr>\n",
       "  </thead>\n",
       "  <tbody>\n",
       "    <tr>\n",
       "      <th>0</th>\n",
       "      <td>9046</td>\n",
       "      <td>Male</td>\n",
       "      <td>67.0</td>\n",
       "      <td>0</td>\n",
       "      <td>1</td>\n",
       "      <td>Yes</td>\n",
       "      <td>Private</td>\n",
       "      <td>Urban</td>\n",
       "      <td>228.69</td>\n",
       "      <td>36.6</td>\n",
       "      <td>formerly smoked</td>\n",
       "      <td>1</td>\n",
       "    </tr>\n",
       "    <tr>\n",
       "      <th>1</th>\n",
       "      <td>51676</td>\n",
       "      <td>Female</td>\n",
       "      <td>61.0</td>\n",
       "      <td>0</td>\n",
       "      <td>0</td>\n",
       "      <td>Yes</td>\n",
       "      <td>Self-employed</td>\n",
       "      <td>Rural</td>\n",
       "      <td>202.21</td>\n",
       "      <td>NaN</td>\n",
       "      <td>never smoked</td>\n",
       "      <td>1</td>\n",
       "    </tr>\n",
       "    <tr>\n",
       "      <th>2</th>\n",
       "      <td>31112</td>\n",
       "      <td>Male</td>\n",
       "      <td>80.0</td>\n",
       "      <td>0</td>\n",
       "      <td>1</td>\n",
       "      <td>Yes</td>\n",
       "      <td>Private</td>\n",
       "      <td>Rural</td>\n",
       "      <td>105.92</td>\n",
       "      <td>32.5</td>\n",
       "      <td>never smoked</td>\n",
       "      <td>1</td>\n",
       "    </tr>\n",
       "    <tr>\n",
       "      <th>3</th>\n",
       "      <td>60182</td>\n",
       "      <td>Female</td>\n",
       "      <td>49.0</td>\n",
       "      <td>0</td>\n",
       "      <td>0</td>\n",
       "      <td>Yes</td>\n",
       "      <td>Private</td>\n",
       "      <td>Urban</td>\n",
       "      <td>171.23</td>\n",
       "      <td>34.4</td>\n",
       "      <td>smokes</td>\n",
       "      <td>1</td>\n",
       "    </tr>\n",
       "    <tr>\n",
       "      <th>4</th>\n",
       "      <td>1665</td>\n",
       "      <td>Female</td>\n",
       "      <td>79.0</td>\n",
       "      <td>1</td>\n",
       "      <td>0</td>\n",
       "      <td>Yes</td>\n",
       "      <td>Self-employed</td>\n",
       "      <td>Rural</td>\n",
       "      <td>174.12</td>\n",
       "      <td>24.0</td>\n",
       "      <td>never smoked</td>\n",
       "      <td>1</td>\n",
       "    </tr>\n",
       "  </tbody>\n",
       "</table>\n",
       "</div>"
      ],
      "text/plain": [
       "      id  gender   age  hypertension  heart_disease ever_married  \\\n",
       "0   9046    Male  67.0             0              1          Yes   \n",
       "1  51676  Female  61.0             0              0          Yes   \n",
       "2  31112    Male  80.0             0              1          Yes   \n",
       "3  60182  Female  49.0             0              0          Yes   \n",
       "4   1665  Female  79.0             1              0          Yes   \n",
       "\n",
       "       work_type Residence_type  avg_glucose_level   bmi   smoking_status  \\\n",
       "0        Private          Urban             228.69  36.6  formerly smoked   \n",
       "1  Self-employed          Rural             202.21   NaN     never smoked   \n",
       "2        Private          Rural             105.92  32.5     never smoked   \n",
       "3        Private          Urban             171.23  34.4           smokes   \n",
       "4  Self-employed          Rural             174.12  24.0     never smoked   \n",
       "\n",
       "   stroke  \n",
       "0       1  \n",
       "1       1  \n",
       "2       1  \n",
       "3       1  \n",
       "4       1  "
      ]
     },
     "execution_count": 2,
     "metadata": {},
     "output_type": "execute_result"
    }
   ],
   "source": [
    "# First 5 rows of the dataset\n",
    "df.head()"
   ]
  },
  {
   "cell_type": "markdown",
   "id": "1b9f7372-7ef3-4b4d-b673-422ff402ce72",
   "metadata": {},
   "source": [
    "**DATA CLEANING**"
   ]
  },
  {
   "cell_type": "code",
   "execution_count": 3,
   "id": "621ecb5f-64c6-43f2-a87d-cc463824725f",
   "metadata": {},
   "outputs": [
    {
     "name": "stdout",
     "output_type": "stream",
     "text": [
      "bmi 3.93346 % missing values\n"
     ]
    }
   ],
   "source": [
    "##these are the features with nan value\n",
    "features_with_na=[features for features in df.columns if df[features].isnull().sum()>=1]\n",
    "for feature in features_with_na:\n",
    "    print(feature,np.round(df[feature].isnull().mean()*100,5), '% missing values')"
   ]
  },
  {
   "cell_type": "markdown",
   "id": "16693edf-3252-42a2-bd66-c703edccc190",
   "metadata": {},
   "source": [
    "**Other Data Cleaning steps**"
   ]
  },
  {
   "cell_type": "code",
   "execution_count": 4,
   "id": "1c3d97e1-48bf-41c1-8264-d5f9413eac1f",
   "metadata": {},
   "outputs": [
    {
     "data": {
      "text/plain": [
       "0"
      ]
     },
     "execution_count": 4,
     "metadata": {},
     "output_type": "execute_result"
    }
   ],
   "source": [
    "# Checking for duplicates\n",
    "df.duplicated().sum()"
   ]
  },
  {
   "cell_type": "code",
   "execution_count": 5,
   "id": "202363f4-d7d3-42b1-988c-34301d12ecba",
   "metadata": {},
   "outputs": [],
   "source": [
    "df.drop(['id', 'gender', 'Residence_type'], inplace=True, axis=1)"
   ]
  },
  {
   "cell_type": "markdown",
   "id": "c9aff71c-6144-4762-9713-0ba46a87a5ce",
   "metadata": {},
   "source": [
    "**FEATURE ENGINEERING**"
   ]
  },
  {
   "cell_type": "markdown",
   "id": "8284d573-d371-4529-9780-3d54e8a84a87",
   "metadata": {},
   "source": [
    "**Numeric Features**"
   ]
  },
  {
   "cell_type": "code",
   "execution_count": 6,
   "id": "d8e665c3-ef4f-4993-8695-1b6d3819d87f",
   "metadata": {},
   "outputs": [
    {
     "name": "stdout",
     "output_type": "stream",
     "text": [
      "Num of Numerical Features : 6\n"
     ]
    },
    {
     "data": {
      "text/plain": [
       "['age', 'hypertension', 'heart_disease', 'avg_glucose_level', 'bmi', 'stroke']"
      ]
     },
     "execution_count": 6,
     "metadata": {},
     "output_type": "execute_result"
    }
   ],
   "source": [
    "numeric_features = [feature for feature in df.columns if df[feature].dtype != 'O']\n",
    "print('Num of Numerical Features :', len(numeric_features))\n",
    "numeric_features"
   ]
  },
  {
   "cell_type": "markdown",
   "id": "390e471a-9648-4728-99b8-8119b205993f",
   "metadata": {},
   "source": [
    "**Categorical Features**"
   ]
  },
  {
   "cell_type": "code",
   "execution_count": 7,
   "id": "c88968e1-9502-4e95-9303-7be2fe4d9ae2",
   "metadata": {},
   "outputs": [
    {
     "name": "stdout",
     "output_type": "stream",
     "text": [
      "Num of Categorical Features : 3\n"
     ]
    },
    {
     "data": {
      "text/plain": [
       "['ever_married', 'work_type', 'smoking_status']"
      ]
     },
     "execution_count": 7,
     "metadata": {},
     "output_type": "execute_result"
    }
   ],
   "source": [
    "categorical_features = [feature for feature in df.columns if df[feature].dtype == 'O']\n",
    "print('Num of Categorical Features :', len(categorical_features))\n",
    "categorical_features"
   ]
  },
  {
   "cell_type": "markdown",
   "id": "ace379a5-bf05-4bd2-960a-66e59703d9a1",
   "metadata": {},
   "source": [
    "**Discrete Features**"
   ]
  },
  {
   "cell_type": "code",
   "execution_count": 8,
   "id": "1dd8254f-d484-4c3b-9296-ab10a1ad9582",
   "metadata": {},
   "outputs": [
    {
     "name": "stdout",
     "output_type": "stream",
     "text": [
      "Num of Discrete Features : 3\n"
     ]
    },
    {
     "data": {
      "text/plain": [
       "['hypertension', 'heart_disease', 'stroke']"
      ]
     },
     "execution_count": 8,
     "metadata": {},
     "output_type": "execute_result"
    }
   ],
   "source": [
    "discrete_features=[feature for feature in numeric_features if (len(df[feature].unique())<=25)]\n",
    "print('Num of Discrete Features :',len(discrete_features))\n",
    "discrete_features"
   ]
  },
  {
   "cell_type": "markdown",
   "id": "704bde9f-7410-4ed5-863d-bc9878485632",
   "metadata": {},
   "source": [
    "**Continuous Features**"
   ]
  },
  {
   "cell_type": "code",
   "execution_count": 9,
   "id": "9bb787f6-00df-4fc7-ae15-21f7e26c039e",
   "metadata": {},
   "outputs": [
    {
     "name": "stdout",
     "output_type": "stream",
     "text": [
      "Num of Continuous Features : 3\n"
     ]
    },
    {
     "data": {
      "text/plain": [
       "['age', 'avg_glucose_level', 'bmi']"
      ]
     },
     "execution_count": 9,
     "metadata": {},
     "output_type": "execute_result"
    }
   ],
   "source": [
    "continuous_features=[feature for feature in numeric_features if len(df[feature].unique()) > 25]\n",
    "print('Num of Continuous Features :',len(continuous_features))\n",
    "continuous_features"
   ]
  },
  {
   "cell_type": "markdown",
   "id": "d8944f1c-8197-42d7-9f75-8ce40bb2bd32",
   "metadata": {},
   "source": [
    "**Imputing Null Values to Check VIF(Multi-Collinearity**"
   ]
  },
  {
   "cell_type": "code",
   "execution_count": 10,
   "id": "130cf931-a14d-4b67-9cb1-d8a79b5adc6c",
   "metadata": {},
   "outputs": [],
   "source": [
    "# Create copy of dataframe to check variance inflation factor\n",
    "df1 = df.copy()\n",
    "for i in continuous_features:\n",
    "    df1[i].fillna(df1[i].median(), inplace=True)"
   ]
  },
  {
   "cell_type": "code",
   "execution_count": 11,
   "id": "08a92e73-5aad-48cc-a29d-aabfbc7fa3ea",
   "metadata": {},
   "outputs": [],
   "source": [
    "from statsmodels.stats.outliers_influence import variance_inflation_factor\n",
    "def compute_vif(considered_features, df):\n",
    "    \n",
    "    X = df[considered_features]\n",
    "    # the calculation of variance inflation requires a constant\n",
    "    X['intercept'] = 1\n",
    "    \n",
    "    # create dataframe to store vif values\n",
    "    vif = pd.DataFrame()\n",
    "    vif[\"Variable\"] = X.columns\n",
    "    vif[\"VIF\"] = [variance_inflation_factor(X.values, i) for i in range(X.shape[1])]\n",
    "    vif = vif[vif['Variable']!='intercept']\n",
    "    return vif"
   ]
  },
  {
   "cell_type": "code",
   "execution_count": 12,
   "id": "c06a64e9-7618-4288-8c6d-a9b7495d0637",
   "metadata": {},
   "outputs": [
    {
     "data": {
      "text/html": [
       "<div>\n",
       "<style scoped>\n",
       "    .dataframe tbody tr th:only-of-type {\n",
       "        vertical-align: middle;\n",
       "    }\n",
       "\n",
       "    .dataframe tbody tr th {\n",
       "        vertical-align: top;\n",
       "    }\n",
       "\n",
       "    .dataframe thead th {\n",
       "        text-align: right;\n",
       "    }\n",
       "</style>\n",
       "<table border=\"1\" class=\"dataframe\">\n",
       "  <thead>\n",
       "    <tr style=\"text-align: right;\">\n",
       "      <th></th>\n",
       "      <th>Variable</th>\n",
       "      <th>VIF</th>\n",
       "    </tr>\n",
       "  </thead>\n",
       "  <tbody>\n",
       "    <tr>\n",
       "      <th>0</th>\n",
       "      <td>age</td>\n",
       "      <td>1.162810</td>\n",
       "    </tr>\n",
       "    <tr>\n",
       "      <th>1</th>\n",
       "      <td>avg_glucose_level</td>\n",
       "      <td>1.070325</td>\n",
       "    </tr>\n",
       "    <tr>\n",
       "      <th>2</th>\n",
       "      <td>bmi</td>\n",
       "      <td>1.128268</td>\n",
       "    </tr>\n",
       "  </tbody>\n",
       "</table>\n",
       "</div>"
      ],
      "text/plain": [
       "            Variable       VIF\n",
       "0                age  1.162810\n",
       "1  avg_glucose_level  1.070325\n",
       "2                bmi  1.128268"
      ]
     },
     "execution_count": 12,
     "metadata": {},
     "output_type": "execute_result"
    }
   ],
   "source": [
    "compute_vif(continuous_features, df1)"
   ]
  },
  {
   "cell_type": "markdown",
   "id": "8a8582ae-6528-4441-b489-02f390094d27",
   "metadata": {},
   "source": [
    "**Checking Outliers and Capping it**"
   ]
  },
  {
   "cell_type": "code",
   "execution_count": 13,
   "id": "93769e16-fdbf-4e84-ba62-10f39e62f446",
   "metadata": {},
   "outputs": [
    {
     "data": {
      "image/png": "[encoded data removed]",
      "text/plain": [
       "<Figure size 1000x600 with 1 Axes>"
      ]
     },
     "metadata": {},
     "output_type": "display_data"
    },
    {
     "data": {
      "image/png": "[encoded data removed]",
      "text/plain": [
       "<Figure size 1000x600 with 1 Axes>"
      ]
     },
     "metadata": {},
     "output_type": "display_data"
    },
    {
     "data": {
      "image/png": "[encoded data removed]",
      "text/plain": [
       "<Figure size 1000x600 with 1 Axes>"
      ]
     },
     "metadata": {},
     "output_type": "display_data"
    }
   ],
   "source": [
    "for i in continuous_features:\n",
    "        plt.figure(figsize=(10,6))\n",
    "        sns.set_style('ticks')\n",
    "        ax = sns.boxplot(df[i])"
   ]
  },
  {
   "cell_type": "markdown",
   "id": "e391098d-7fdd-4b52-a118-8188a2a65b13",
   "metadata": {},
   "source": [
    "**Standard deviation method For Outlier Handling?**"
   ]
  },
  {
   "cell_type": "code",
   "execution_count": 14,
   "id": "6189bf9d-dc92-431c-8519-b116ebd89fd4",
   "metadata": {},
   "outputs": [],
   "source": [
    "def outlier_removal(column, df):\n",
    "    upper_limit = df[column].mean() + 3*df[column].std()\n",
    "    lower_limit = df[column].mean() - 3*df[column].std()\n",
    "    df = df[(df[column] < upper_limit) & (df[column] > lower_limit)]\n",
    "    return df"
   ]
  },
  {
   "cell_type": "code",
   "execution_count": 15,
   "id": "9d2f298d-0411-4d67-b131-2e4aad2036fa",
   "metadata": {},
   "outputs": [
    {
     "data": {
      "text/plain": [
       "(5110, 9)"
      ]
     },
     "execution_count": 15,
     "metadata": {},
     "output_type": "execute_result"
    }
   ],
   "source": [
    "df.shape"
   ]
  },
  {
   "cell_type": "code",
   "execution_count": 16,
   "id": "acb48c0a-6382-462f-8aee-5b8c48bfabcb",
   "metadata": {},
   "outputs": [],
   "source": [
    "outlier_feature = ['bmi']"
   ]
  },
  {
   "cell_type": "code",
   "execution_count": 17,
   "id": "847635d7-b097-4c72-bc90-ef0b0568b148",
   "metadata": {},
   "outputs": [],
   "source": [
    "for i in range(len(outlier_feature)):\n",
    "    df = outlier_removal(outlier_feature[i], df)"
   ]
  },
  {
   "cell_type": "code",
   "execution_count": 18,
   "id": "3049b4ec-9adc-4efb-8440-d7f1f6148ba7",
   "metadata": {},
   "outputs": [
    {
     "data": {
      "image/png": "[encoded data removed]",
      "text/plain": [
       "<Figure size 1000x600 with 1 Axes>"
      ]
     },
     "metadata": {},
     "output_type": "display_data"
    },
    {
     "data": {
      "image/png": "[encoded data removed]",
      "text/plain": [
       "<Figure size 1000x600 with 1 Axes>"
      ]
     },
     "metadata": {},
     "output_type": "display_data"
    },
    {
     "data": {
      "image/png": "[encoded data removed]",
      "text/plain": [
       "<Figure size 1000x600 with 1 Axes>"
      ]
     },
     "metadata": {},
     "output_type": "display_data"
    }
   ],
   "source": [
    "import seaborn as sns\n",
    "import matplotlib.pyplot as plt\n",
    "\n",
    "# Check if df and features are good\n",
    "if df is not None and isinstance(df, pd.DataFrame):\n",
    "    for feature in continuous_features:\n",
    "        if feature in df.columns:\n",
    "            plt.figure(figsize=(10, 6))\n",
    "            sns.boxplot(x=df[feature], color='skyblue')\n",
    "            plt.title(f'Boxplot of {feature}', fontsize=14, fontweight='bold')\n",
    "            plt.xlabel(feature)\n",
    "            plt.tight_layout()\n",
    "            plt.show()\n",
    "        else:\n",
    "            print(f\"⚠️ Column '{feature}' not found in DataFrame.\")\n",
    "else:\n",
    "    print(\"❌ df is None or not a valid DataFrame.\")\n"
   ]
  },
  {
   "cell_type": "code",
   "execution_count": 19,
   "id": "9030d3cb-8b43-4e00-ae56-0402fca8e5cb",
   "metadata": {},
   "outputs": [
    {
     "data": {
      "text/plain": [
       "(4851, 9)"
      ]
     },
     "execution_count": 19,
     "metadata": {},
     "output_type": "execute_result"
    }
   ],
   "source": [
    "df.shape"
   ]
  },
  {
   "cell_type": "markdown",
   "id": "f931a131-0806-4946-b5d3-488788e8072f",
   "metadata": {},
   "source": [
    "**Feature Transformation**"
   ]
  },
  {
   "cell_type": "code",
   "execution_count": 20,
   "id": "73830fd2-2db3-4c21-9def-43ba97b34b87",
   "metadata": {},
   "outputs": [
    {
     "data": {
      "text/plain": [
       "age                 -0.115593\n",
       "avg_glucose_level    1.626970\n",
       "bmi                  0.466922\n",
       "dtype: float64"
      ]
     },
     "execution_count": 20,
     "metadata": {},
     "output_type": "execute_result"
    }
   ],
   "source": [
    "df[continuous_features].skew(axis=0)"
   ]
  },
  {
   "cell_type": "code",
   "execution_count": 21,
   "id": "b5fc39a3-ba4b-479e-97c6-864ec721617c",
   "metadata": {},
   "outputs": [
    {
     "data": {
      "image/png": "[encoded data removed]",
      "text/plain": [
       "<Figure size 1200x600 with 3 Axes>"
      ]
     },
     "metadata": {},
     "output_type": "display_data"
    }
   ],
   "source": [
    "# distribution of data before scaling\n",
    "plt.figure(figsize=(12, 6))\n",
    "for i, col in enumerate(continuous_features):\n",
    "    plt.subplot(2, 2, i+1)\n",
    "    sns.kdeplot(x=df1[col], color='indianred')\n",
    "    plt.xlabel(col)\n",
    "    plt.tight_layout()"
   ]
  },
  {
   "cell_type": "markdown",
   "id": "36b3f8a2-7f89-48aa-a8f2-eb33e18f2f17",
   "metadata": {},
   "source": [
    "**Split X And Y**"
   ]
  },
  {
   "cell_type": "code",
   "execution_count": 22,
   "id": "49686f12-86d8-46d4-a416-d641036cb419",
   "metadata": {},
   "outputs": [],
   "source": [
    "from sklearn.model_selection import train_test_split\n",
    "X = df.drop(['stroke'], axis=1)\n",
    "y = df['stroke']"
   ]
  },
  {
   "cell_type": "code",
   "execution_count": 23,
   "id": "219596a8-0caf-46e7-ac82-30bab7333b0a",
   "metadata": {},
   "outputs": [
    {
     "name": "stdout",
     "output_type": "stream",
     "text": [
      "ever_married : 2\n",
      "work_type : 5\n",
      "smoking_status : 4\n"
     ]
    }
   ],
   "source": [
    "for feature in categorical_features:\n",
    "    print(feature,':', X[feature].nunique())"
   ]
  },
  {
   "cell_type": "markdown",
   "id": "2512cc55-0b0e-498c-9f0c-8e986f483b8a",
   "metadata": {},
   "source": [
    "**Feature Encoding and Scaling**"
   ]
  },
  {
   "cell_type": "markdown",
   "id": "6a355c07-92ce-4dc2-bdad-5878cfee355f",
   "metadata": {},
   "source": [
    "**One Hot Encoding for Columns which had lesser unique values and not ordinal**"
   ]
  },
  {
   "cell_type": "code",
   "execution_count": 24,
   "id": "93602962-2b4d-41d9-aea2-7a314b1f91cd",
   "metadata": {},
   "outputs": [
    {
     "name": "stdout",
     "output_type": "stream",
     "text": [
      "age: mean = 42.83, median = 44.00\n",
      "avg_glucose_level: mean = 105.10, median = 91.68\n",
      "bmi: mean = 28.54, median = 27.90\n"
     ]
    }
   ],
   "source": [
    "for i in continuous_features:\n",
    "    print(f'{i}: mean = {df[i].mean():.2f}, median = {df[i].median():.2f}')"
   ]
  },
  {
   "cell_type": "code",
   "execution_count": 25,
   "id": "485db245-d9d1-4ecb-972b-444f90b66c57",
   "metadata": {},
   "outputs": [],
   "source": [
    "# Create Column Transformer with 3 types of transformers\n",
    "categorical_features = X.select_dtypes(include=\"object\").columns\n",
    "num_feature = numeric_features.copy()\n",
    "num_feature.remove('stroke')\n",
    "transform_features=['avg_glucose_level']\n",
    "\n",
    "\n",
    "from sklearn.preprocessing import OneHotEncoder, StandardScaler, PowerTransformer\n",
    "from sklearn.compose import ColumnTransformer\n",
    "from sklearn.pipeline import Pipeline\n",
    "from sklearn.impute import SimpleImputer\n",
    "\n",
    "numeric_pipeline = Pipeline(steps=[\n",
    "    ('imputer', SimpleImputer(strategy='median')),\n",
    "    ('scaler', StandardScaler())\n",
    "])\n",
    "\n",
    "categorical_pipeline = Pipeline(steps=[\n",
    "    ('one_hot_encoder', OneHotEncoder()),\n",
    "    ('scaler', StandardScaler(with_mean=False))\n",
    "]\n",
    ")\n",
    "\n",
    "transform_pipe = Pipeline(steps=[\n",
    "    ('transformer', PowerTransformer(standardize=True))\n",
    "])\n",
    "\n",
    "preprocessor = ColumnTransformer(\n",
    "    [\n",
    "        (\"numeric_Pipeline\",numeric_pipeline,num_feature),\n",
    "        (\"Categorical_Pipeline\",categorical_pipeline, categorical_features),\n",
    "        (\"Power_Transformation\", transform_pipe, transform_features)\n",
    "]\n",
    ")"
   ]
  },
  {
   "cell_type": "code",
   "execution_count": 26,
   "id": "06022d91-c3b9-47a7-8637-a78999e84077",
   "metadata": {},
   "outputs": [],
   "source": [
    "X= preprocessor.fit_transform(X)"
   ]
  },
  {
   "cell_type": "markdown",
   "id": "a906e4f3-eca1-463b-988e-739437c9ba6f",
   "metadata": {},
   "source": [
    "**Handling Imbalanced Dataset**"
   ]
  },
  {
   "cell_type": "code",
   "execution_count": 27,
   "id": "11fda09f-4d96-4ed1-83d8-72f2d6099ed8",
   "metadata": {},
   "outputs": [],
   "source": [
    "from imblearn.combine import SMOTETomek, SMOTEENN\n",
    "\n",
    "# Resampling the minority class. The strategy can be changed as required.\n",
    "smt = SMOTEENN(random_state=42,sampling_strategy='minority' )\n",
    "# Fit the model to generate the data.\n",
    "X_res, y_res = smt.fit_resample(X, y)"
   ]
  },
  {
   "cell_type": "markdown",
   "id": "f3c989dd-8049-437c-8012-0897859c1a34",
   "metadata": {},
   "source": [
    "**Model Selection**"
   ]
  },
  {
   "cell_type": "markdown",
   "id": "55aee340-3248-4ae1-9f46-f2a3cd1d20c1",
   "metadata": {},
   "source": [
    "**Train Test Split**"
   ]
  },
  {
   "cell_type": "markdown",
   "id": "3ca62c19-4cae-48ef-a741-d6428ed2530d",
   "metadata": {},
   "source": [
    "**Import Required packages for model training**"
   ]
  },
  {
   "cell_type": "code",
   "execution_count": 28,
   "id": "2bdb3cc1-6c7f-4918-bc3c-93d841ba8960",
   "metadata": {},
   "outputs": [],
   "source": [
    "from sklearn.tree  import DecisionTreeClassifier\n",
    "from sklearn.ensemble import RandomForestClassifier, GradientBoostingClassifier, AdaBoostClassifier\n",
    "from sklearn.linear_model import LogisticRegression\n",
    "from sklearn.neighbors import KNeighborsClassifier\n",
    "from sklearn.metrics import accuracy_score, classification_report,ConfusionMatrixDisplay, \\\n",
    "                            precision_score, recall_score, f1_score, roc_auc_score,roc_curve \n",
    "from sklearn.svm import SVC\n",
    "from sklearn.tree import DecisionTreeClassifier\n",
    "from xgboost import XGBClassifier\n",
    "from catboost import CatBoostClassifier"
   ]
  },
  {
   "cell_type": "code",
   "execution_count": 29,
   "id": "ab465d0a-3fa9-4082-aec8-906b7566159e",
   "metadata": {},
   "outputs": [],
   "source": [
    "def evaluate_clf(true, predicted):\n",
    "    acc = accuracy_score(true, predicted) # Calculate Accuracy\n",
    "    f1 = f1_score(true, predicted) # Calculate F1-score\n",
    "    precision = precision_score(true, predicted) # Calculate Precision\n",
    "    recall = recall_score(true, predicted)  # Calculate Recall\n",
    "    roc_auc = roc_auc_score(true, predicted) #Calculate Roc\n",
    "    return acc, f1 , precision, recall, roc_auc"
   ]
  },
  {
   "cell_type": "code",
   "execution_count": 30,
   "id": "763b9e6a-bc7a-4278-a09a-3bd1851676f3",
   "metadata": {},
   "outputs": [],
   "source": [
    "# Initialize models which are required for models\n",
    "models = {\n",
    "    \"Random Forest\": RandomForestClassifier(),\n",
    "    \"Decision Tree\": DecisionTreeClassifier(),\n",
    "    \"Gradient Boosting\": GradientBoostingClassifier(),\n",
    "    \"Logistic Regression\": LogisticRegression(),\n",
    "     \"K-Neighbors Classifier\": KNeighborsClassifier(),\n",
    "    \"XGBClassifier\": XGBClassifier(), \n",
    "     \"CatBoosting Classifier\": CatBoostClassifier(verbose=False),\n",
    "    \"AdaBoost Classifier\": AdaBoostClassifier()\n",
    "}"
   ]
  },
  {
   "cell_type": "code",
   "execution_count": 31,
   "id": "d369ed06-223c-4209-969b-827a53feecd6",
   "metadata": {},
   "outputs": [],
   "source": [
    "# Create a function which can evaluate models and return a report \n",
    "def evaluate_models(X, y, models):\n",
    "    '''\n",
    "    This function takes in X and y and models dictionary as input\n",
    "    It splits the data into Train Test split\n",
    "    Iterates through the given model dictionary and evaluates the metrics\n",
    "    Returns: Dataframe which contains report of all models metrics with cost\n",
    "    '''\n",
    "    # separate dataset into train and test\n",
    "    X_train, X_test, y_train, y_test = train_test_split(X,y,test_size=0.2,random_state=42)\n",
    "    \n",
    "    models_list = []\n",
    "    accuracy_list = []\n",
    "    auc= []\n",
    "    \n",
    "    for i in range(len(list(models))):\n",
    "        model = list(models.values())[i]\n",
    "        model.fit(X_train, y_train) # Train model\n",
    "\n",
    "        # Make predictions\n",
    "        y_train_pred = model.predict(X_train)\n",
    "        y_test_pred = model.predict(X_test)\n",
    "\n",
    "        # Training set performance\n",
    "        model_train_accuracy, model_train_f1,model_train_precision,\\\n",
    "        model_train_recall,model_train_rocauc_score=evaluate_clf(y_train ,y_train_pred)\n",
    "\n",
    "\n",
    "        # Test set performance\n",
    "        model_test_accuracy,model_test_f1,model_test_precision,\\\n",
    "        model_test_recall,model_test_rocauc_score=evaluate_clf(y_test, y_test_pred)\n",
    "\n",
    "        print(list(models.keys())[i])\n",
    "        models_list.append(list(models.keys())[i])\n",
    "\n",
    "        print('Model performance for Training set')\n",
    "        print(\"- Accuracy: {:.4f}\".format(model_train_accuracy))\n",
    "        print('- F1 score: {:.4f}'.format(model_train_f1)) \n",
    "        print('- Precision: {:.4f}'.format(model_train_precision))\n",
    "        print('- Recall: {:.4f}'.format(model_train_recall))\n",
    "        print('- Roc Auc Score: {:.4f}'.format(model_train_rocauc_score))\n",
    "\n",
    "        print('----------------------------------')\n",
    "\n",
    "        print('Model performance for Test set')\n",
    "        print('- Accuracy: {:.4f}'.format(model_test_accuracy))\n",
    "        accuracy_list.append(model_test_accuracy)\n",
    "        print('- F1 score: {:.4f}'.format(model_test_f1))\n",
    "        print('- Precision: {:.4f}'.format(model_test_precision))\n",
    "        print('- Recall: {:.4f}'.format(model_test_recall))\n",
    "        print('- Roc Auc Score: {:.4f}'.format(model_test_rocauc_score))\n",
    "        auc.append(model_test_rocauc_score)\n",
    "        print('='*35)\n",
    "        print('\\n')\n",
    "        \n",
    "    report=pd.DataFrame(list(zip(models_list, accuracy_list)), columns=['Model Name', 'Accuracy']).sort_values(by=['Accuracy'], ascending=False)\n",
    "        \n",
    "    return report"
   ]
  },
  {
   "cell_type": "markdown",
   "id": "31ec5bda-f9c2-4829-80e1-1f38d32ad7ec",
   "metadata": {},
   "source": [
    "**Evaluate all base Models**"
   ]
  },
  {
   "cell_type": "code",
   "execution_count": 32,
   "id": "a0f7360b-02c0-49ff-b800-d51738bb460d",
   "metadata": {},
   "outputs": [
    {
     "name": "stdout",
     "output_type": "stream",
     "text": [
      "Random Forest\n",
      "Model performance for Training set\n",
      "- Accuracy: 1.0000\n",
      "- F1 score: 1.0000\n",
      "- Precision: 1.0000\n",
      "- Recall: 1.0000\n",
      "- Roc Auc Score: 1.0000\n",
      "----------------------------------\n",
      "Model performance for Test set\n",
      "- Accuracy: 0.9797\n",
      "- F1 score: 0.9807\n",
      "- Precision: 0.9691\n",
      "- Recall: 0.9927\n",
      "- Roc Auc Score: 0.9792\n",
      "===================================\n",
      "\n",
      "\n",
      "Decision Tree\n",
      "Model performance for Training set\n",
      "- Accuracy: 1.0000\n",
      "- F1 score: 1.0000\n",
      "- Precision: 1.0000\n",
      "- Recall: 1.0000\n",
      "- Roc Auc Score: 1.0000\n",
      "----------------------------------\n",
      "Model performance for Test set\n",
      "- Accuracy: 0.9354\n",
      "- F1 score: 0.9388\n",
      "- Precision: 0.9254\n",
      "- Recall: 0.9525\n",
      "- Roc Auc Score: 0.9347\n",
      "===================================\n",
      "\n",
      "\n",
      "Gradient Boosting\n",
      "Model performance for Training set\n",
      "- Accuracy: 0.9247\n",
      "- F1 score: 0.9301\n",
      "- Precision: 0.9107\n",
      "- Recall: 0.9504\n",
      "- Roc Auc Score: 0.9233\n",
      "----------------------------------\n",
      "Model performance for Test set\n",
      "- Accuracy: 0.9088\n",
      "- F1 score: 0.9156\n",
      "- Precision: 0.8825\n",
      "- Recall: 0.9513\n",
      "- Roc Auc Score: 0.9070\n",
      "===================================\n",
      "\n",
      "\n",
      "Logistic Regression\n",
      "Model performance for Training set\n",
      "- Accuracy: 0.8609\n",
      "- F1 score: 0.8720\n",
      "- Precision: 0.8465\n",
      "- Recall: 0.8990\n",
      "- Roc Auc Score: 0.8587\n",
      "----------------------------------\n",
      "Model performance for Test set\n",
      "- Accuracy: 0.8588\n",
      "- F1 score: 0.8692\n",
      "- Precision: 0.8382\n",
      "- Recall: 0.9026\n",
      "- Roc Auc Score: 0.8570\n",
      "===================================\n",
      "\n",
      "\n",
      "K-Neighbors Classifier\n",
      "Model performance for Training set\n",
      "- Accuracy: 0.9873\n",
      "- F1 score: 0.9881\n",
      "- Precision: 0.9779\n",
      "- Recall: 0.9985\n",
      "- Roc Auc Score: 0.9867\n",
      "----------------------------------\n",
      "Model performance for Test set\n",
      "- Accuracy: 0.9721\n",
      "- F1 score: 0.9738\n",
      "- Precision: 0.9523\n",
      "- Recall: 0.9963\n",
      "- Roc Auc Score: 0.9711\n",
      "===================================\n",
      "\n",
      "\n",
      "XGBClassifier\n",
      "Model performance for Training set\n",
      "- Accuracy: 0.9994\n",
      "- F1 score: 0.9994\n",
      "- Precision: 0.9988\n",
      "- Recall: 1.0000\n",
      "- Roc Auc Score: 0.9993\n",
      "----------------------------------\n",
      "Model performance for Test set\n",
      "- Accuracy: 0.9734\n",
      "- F1 score: 0.9749\n",
      "- Precision: 0.9588\n",
      "- Recall: 0.9915\n",
      "- Roc Auc Score: 0.9726\n",
      "===================================\n",
      "\n",
      "\n",
      "CatBoosting Classifier\n",
      "Model performance for Training set\n",
      "- Accuracy: 0.9902\n",
      "- F1 score: 0.9907\n",
      "- Precision: 0.9869\n",
      "- Recall: 0.9946\n",
      "- Roc Auc Score: 0.9899\n",
      "----------------------------------\n",
      "Model performance for Test set\n",
      "- Accuracy: 0.9658\n",
      "- F1 score: 0.9677\n",
      "- Precision: 0.9517\n",
      "- Recall: 0.9842\n",
      "- Roc Auc Score: 0.9650\n",
      "===================================\n",
      "\n",
      "\n",
      "AdaBoost Classifier\n",
      "Model performance for Training set\n",
      "- Accuracy: 0.8549\n",
      "- F1 score: 0.8701\n",
      "- Precision: 0.8234\n",
      "- Recall: 0.9224\n",
      "- Roc Auc Score: 0.8510\n",
      "----------------------------------\n",
      "Model performance for Test set\n",
      "- Accuracy: 0.8448\n",
      "- F1 score: 0.8613\n",
      "- Precision: 0.8044\n",
      "- Recall: 0.9269\n",
      "- Roc Auc Score: 0.8414\n",
      "===================================\n",
      "\n",
      "\n"
     ]
    }
   ],
   "source": [
    "base_report =evaluate_models(X=X_res, y=y_res, models=models)"
   ]
  },
  {
   "cell_type": "code",
   "execution_count": 33,
   "id": "f11bd48e-48e8-41ec-af93-b3fff11d724b",
   "metadata": {},
   "outputs": [
    {
     "data": {
      "text/html": [
       "<div>\n",
       "<style scoped>\n",
       "    .dataframe tbody tr th:only-of-type {\n",
       "        vertical-align: middle;\n",
       "    }\n",
       "\n",
       "    .dataframe tbody tr th {\n",
       "        vertical-align: top;\n",
       "    }\n",
       "\n",
       "    .dataframe thead th {\n",
       "        text-align: right;\n",
       "    }\n",
       "</style>\n",
       "<table border=\"1\" class=\"dataframe\">\n",
       "  <thead>\n",
       "    <tr style=\"text-align: right;\">\n",
       "      <th></th>\n",
       "      <th>Model Name</th>\n",
       "      <th>Accuracy</th>\n",
       "    </tr>\n",
       "  </thead>\n",
       "  <tbody>\n",
       "    <tr>\n",
       "      <th>0</th>\n",
       "      <td>Random Forest</td>\n",
       "      <td>0.979734</td>\n",
       "    </tr>\n",
       "    <tr>\n",
       "      <th>5</th>\n",
       "      <td>XGBClassifier</td>\n",
       "      <td>0.973401</td>\n",
       "    </tr>\n",
       "    <tr>\n",
       "      <th>4</th>\n",
       "      <td>K-Neighbors Classifier</td>\n",
       "      <td>0.972134</td>\n",
       "    </tr>\n",
       "    <tr>\n",
       "      <th>6</th>\n",
       "      <td>CatBoosting Classifier</td>\n",
       "      <td>0.965801</td>\n",
       "    </tr>\n",
       "    <tr>\n",
       "      <th>1</th>\n",
       "      <td>Decision Tree</td>\n",
       "      <td>0.935402</td>\n",
       "    </tr>\n",
       "    <tr>\n",
       "      <th>2</th>\n",
       "      <td>Gradient Boosting</td>\n",
       "      <td>0.908803</td>\n",
       "    </tr>\n",
       "    <tr>\n",
       "      <th>3</th>\n",
       "      <td>Logistic Regression</td>\n",
       "      <td>0.858771</td>\n",
       "    </tr>\n",
       "    <tr>\n",
       "      <th>7</th>\n",
       "      <td>AdaBoost Classifier</td>\n",
       "      <td>0.844839</td>\n",
       "    </tr>\n",
       "  </tbody>\n",
       "</table>\n",
       "</div>"
      ],
      "text/plain": [
       "               Model Name  Accuracy\n",
       "0           Random Forest  0.979734\n",
       "5           XGBClassifier  0.973401\n",
       "4  K-Neighbors Classifier  0.972134\n",
       "6  CatBoosting Classifier  0.965801\n",
       "1           Decision Tree  0.935402\n",
       "2       Gradient Boosting  0.908803\n",
       "3     Logistic Regression  0.858771\n",
       "7     AdaBoost Classifier  0.844839"
      ]
     },
     "execution_count": 33,
     "metadata": {},
     "output_type": "execute_result"
    }
   ],
   "source": [
    "base_report"
   ]
  },
  {
   "cell_type": "markdown",
   "id": "8291544d-ff92-4a48-b143-438a06319d7d",
   "metadata": {},
   "source": [
    "**Here we can use Random Forest , XGBoost Classifier, CatBoost Classifier, KNN classifier for Hyper Parameter Tuning**"
   ]
  },
  {
   "cell_type": "code",
   "execution_count": 34,
   "id": "91485c38-7078-458c-a9ed-287329f11773",
   "metadata": {},
   "outputs": [],
   "source": [
    "#Initialize few parameter for Hyperparamter tuning\n",
    "xgboost_params = {\n",
    "    \"learning_rate\": [0.1, 0.01],\n",
    "    \"max_depth\": [5, 8, 12, 20, 30],\n",
    "    \"n_estimators\": [100, 200, 300],\n",
    "    \"colsample_bylevel\": [0.5, 0.8, 1, 0.3, 0.4]\n",
    "}\n",
    "\n",
    "cat_params = {\n",
    "    \"learning_rate\": [0.1, 0.01],\n",
    "    \"max_depth\": [10, 15, 30, 20]\n",
    "}\n",
    "\n",
    "rf_params = {\n",
    "    \"max_depth\": [10, 12, None, 15],\n",
    "    \"max_features\": ['sqrt', 'log2', None],\n",
    "    \"min_samples_split\": [100, 150, 200, 300],\n",
    "    \"n_estimators\": [10, 50, 100, 200]\n",
    "}\n",
    "\n",
    "knn_params = {\n",
    "    \"algorithm\": ['auto', 'ball_tree', 'kd_tree','brute'],\n",
    "    \"weights\": ['uniform', 'distance'],\n",
    "    \"n_neighbors\": [3, 4, 5, 7, 9],\n",
    "}"
   ]
  },
  {
   "cell_type": "code",
   "execution_count": 35,
   "id": "bf719615-fe5c-450e-8954-e72456caf00b",
   "metadata": {},
   "outputs": [],
   "source": [
    "# Models list for Hyperparameter tuning\n",
    "randomcv_models = [\n",
    "    ('XGBoost', XGBClassifier(), xgboost_params),\n",
    "    ('CatBoost', CatBoostClassifier(verbose=False), cat_params),\n",
    "    (\"RF\", RandomForestClassifier(), rf_params),\n",
    "    (\"KNN\", KNeighborsClassifier(), knn_params)\n",
    "]"
   ]
  },
  {
   "cell_type": "code",
   "execution_count": 36,
   "id": "4eb3ffd8-7fcc-40ca-b730-ab36714f2803",
   "metadata": {},
   "outputs": [
    {
     "name": "stdout",
     "output_type": "stream",
     "text": [
      "Fitting 3 folds for each of 100 candidates, totalling 300 fits\n",
      "Fitting 3 folds for each of 8 candidates, totalling 24 fits\n",
      "Fitting 3 folds for each of 100 candidates, totalling 300 fits\n",
      "Fitting 3 folds for each of 40 candidates, totalling 120 fits\n",
      "---------------- Best Params for XGBoost -------------------\n",
      "{'n_estimators': 200, 'max_depth': 30, 'learning_rate': 0.1, 'colsample_bylevel': 0.4}\n",
      "---------------- Best Params for CatBoost -------------------\n",
      "{'max_depth': 15, 'learning_rate': 0.1}\n",
      "---------------- Best Params for RF -------------------\n",
      "{'n_estimators': 50, 'min_samples_split': 100, 'max_features': 'log2', 'max_depth': None}\n",
      "---------------- Best Params for KNN -------------------\n",
      "{'weights': 'distance', 'n_neighbors': 3, 'algorithm': 'auto'}\n"
     ]
    }
   ],
   "source": [
    "from sklearn.model_selection import RandomizedSearchCV\n",
    "\n",
    "model_param = {}\n",
    "for name, model, params in randomcv_models:\n",
    "    random = RandomizedSearchCV(estimator=model,\n",
    "                                   param_distributions=params,\n",
    "                                   n_iter=100,\n",
    "                                   cv=3,\n",
    "                                   verbose=2,\n",
    "                                   n_jobs=-1)\n",
    "    random.fit(X_res, y_res)\n",
    "    model_param[name] = random.best_params_\n",
    "\n",
    "for model_name in model_param:\n",
    "    print(f\"---------------- Best Params for {model_name} -------------------\")\n",
    "    print(model_param[model_name])"
   ]
  },
  {
   "cell_type": "markdown",
   "id": "41c62960-4c00-48e2-931f-5331cd941632",
   "metadata": {},
   "source": [
    "**Retraining the Model with best Parameters**"
   ]
  },
  {
   "cell_type": "code",
   "execution_count": 37,
   "id": "8280bdc6-c7c7-4a0d-bc18-1f4f5222b40b",
   "metadata": {},
   "outputs": [
    {
     "name": "stdout",
     "output_type": "stream",
     "text": [
      "Random Forest Classifier\n",
      "Model performance for Training set\n",
      "- Accuracy: 0.9303\n",
      "- F1 score: 0.9353\n",
      "- Precision: 0.9149\n",
      "- Recall: 0.9567\n",
      "- Roc Auc Score: 0.9288\n",
      "----------------------------------\n",
      "Model performance for Test set\n",
      "- Accuracy: 0.9202\n",
      "- F1 score: 0.9254\n",
      "- Precision: 0.8999\n",
      "- Recall: 0.9525\n",
      "- Roc Auc Score: 0.9189\n",
      "===================================\n",
      "\n",
      "\n",
      "KNeighborsClassifier\n",
      "Model performance for Training set\n",
      "- Accuracy: 1.0000\n",
      "- F1 score: 1.0000\n",
      "- Precision: 1.0000\n",
      "- Recall: 1.0000\n",
      "- Roc Auc Score: 1.0000\n",
      "----------------------------------\n",
      "Model performance for Test set\n",
      "- Accuracy: 0.9848\n",
      "- F1 score: 0.9856\n",
      "- Precision: 0.9716\n",
      "- Recall: 1.0000\n",
      "- Roc Auc Score: 0.9842\n",
      "===================================\n",
      "\n",
      "\n",
      "XGBClassifier\n",
      "Model performance for Training set\n",
      "- Accuracy: 1.0000\n",
      "- F1 score: 1.0000\n",
      "- Precision: 1.0000\n",
      "- Recall: 1.0000\n",
      "- Roc Auc Score: 1.0000\n",
      "----------------------------------\n",
      "Model performance for Test set\n",
      "- Accuracy: 0.9778\n",
      "- F1 score: 0.9790\n",
      "- Precision: 0.9634\n",
      "- Recall: 0.9951\n",
      "- Roc Auc Score: 0.9771\n",
      "===================================\n",
      "\n",
      "\n",
      "CatBoosting Classifier\n",
      "Model performance for Training set\n",
      "- Accuracy: 1.0000\n",
      "- F1 score: 1.0000\n",
      "- Precision: 1.0000\n",
      "- Recall: 1.0000\n",
      "- Roc Auc Score: 1.0000\n",
      "----------------------------------\n",
      "Model performance for Test set\n",
      "- Accuracy: 0.9854\n",
      "- F1 score: 0.9862\n",
      "- Precision: 0.9739\n",
      "- Recall: 0.9988\n",
      "- Roc Auc Score: 0.9849\n",
      "===================================\n",
      "\n",
      "\n"
     ]
    }
   ],
   "source": [
    "from sklearn.metrics import roc_auc_score,roc_curve\n",
    "best_models = {\n",
    "    \"Random Forest Classifier\": RandomForestClassifier(**model_param['RF']),\n",
    "    \"KNeighborsClassifier\": KNeighborsClassifier(**model_param['KNN']),\n",
    "    \"XGBClassifier\": XGBClassifier(**model_param['XGBoost'],n_jobs=-1),\n",
    "    \"CatBoosting Classifier\": CatBoostClassifier(**model_param['CatBoost'],verbose=False),\n",
    "}\n",
    "tuned_report =evaluate_models(X=X_res, y=y_res, models=best_models)"
   ]
  },
  {
   "cell_type": "code",
   "execution_count": 38,
   "id": "22328283-b6df-4fe8-8ef0-33323e7f8575",
   "metadata": {},
   "outputs": [
    {
     "data": {
      "text/html": [
       "<div>\n",
       "<style scoped>\n",
       "    .dataframe tbody tr th:only-of-type {\n",
       "        vertical-align: middle;\n",
       "    }\n",
       "\n",
       "    .dataframe tbody tr th {\n",
       "        vertical-align: top;\n",
       "    }\n",
       "\n",
       "    .dataframe thead th {\n",
       "        text-align: right;\n",
       "    }\n",
       "</style>\n",
       "<table border=\"1\" class=\"dataframe\">\n",
       "  <thead>\n",
       "    <tr style=\"text-align: right;\">\n",
       "      <th></th>\n",
       "      <th>Model Name</th>\n",
       "      <th>Accuracy</th>\n",
       "    </tr>\n",
       "  </thead>\n",
       "  <tbody>\n",
       "    <tr>\n",
       "      <th>3</th>\n",
       "      <td>CatBoosting Classifier</td>\n",
       "      <td>0.985434</td>\n",
       "    </tr>\n",
       "    <tr>\n",
       "      <th>1</th>\n",
       "      <td>KNeighborsClassifier</td>\n",
       "      <td>0.984801</td>\n",
       "    </tr>\n",
       "    <tr>\n",
       "      <th>2</th>\n",
       "      <td>XGBClassifier</td>\n",
       "      <td>0.977834</td>\n",
       "    </tr>\n",
       "    <tr>\n",
       "      <th>0</th>\n",
       "      <td>Random Forest Classifier</td>\n",
       "      <td>0.920203</td>\n",
       "    </tr>\n",
       "  </tbody>\n",
       "</table>\n",
       "</div>"
      ],
      "text/plain": [
       "                 Model Name  Accuracy\n",
       "3    CatBoosting Classifier  0.985434\n",
       "1      KNeighborsClassifier  0.984801\n",
       "2             XGBClassifier  0.977834\n",
       "0  Random Forest Classifier  0.920203"
      ]
     },
     "execution_count": 38,
     "metadata": {},
     "output_type": "execute_result"
    }
   ],
   "source": [
    "tuned_report"
   ]
  },
  {
   "cell_type": "markdown",
   "id": "f336d262-5464-4fc6-9279-6e834a386c33",
   "metadata": {},
   "source": [
    "**Plot Roc Auc Curve**"
   ]
  },
  {
   "cell_type": "code",
   "execution_count": 39,
   "id": "275ac865-4479-4afd-9430-27dd3b517a44",
   "metadata": {},
   "outputs": [
    {
     "data": {
      "image/png": "[encoded data removed]",
      "text/plain": [
       "<Figure size 1400x700 with 1 Axes>"
      ]
     },
     "metadata": {},
     "output_type": "display_data"
    }
   ],
   "source": [
    "from sklearn.metrics import roc_auc_score,roc_curve\n",
    "# Add the models to the list that you want to view on the ROC plot\n",
    "auc_models = [\n",
    "{\n",
    "    'label': 'Random Forest Classifier',\n",
    "    'model': RandomForestClassifier(**model_param['RF']),\n",
    "    'auc': 0.9152\n",
    "},\n",
    "{\n",
    "    'label': 'XGBoost Classifier',\n",
    "    'model': XGBClassifier(**model_param['XGBoost'],n_jobs=-1),\n",
    "    'auc': 0.9785\n",
    "},\n",
    "{\n",
    "    'label': \"K-Nearest Neighbour Classifier\",\n",
    "    'model': KNeighborsClassifier(**model_param['KNN']),\n",
    "    'auc': 0.9842 \n",
    "},\n",
    "{\n",
    "    'label': 'CatBoost Classifier',\n",
    "    'model': CatBoostClassifier(**model_param['CatBoost'],verbose=False),\n",
    "    'auc': 0.9849\n",
    "},\n",
    "]\n",
    "\n",
    "X_train, X_test, y_train, y_test = train_test_split(X_res,y_res,test_size=0.2,random_state=42)\n",
    "# create loop through all model\n",
    "plt.figure(figsize=(14,7))\n",
    "for algo in auc_models:\n",
    "    model = algo['model'] # select the model\n",
    "    model.fit(X_train, y_train) # train the model\n",
    "# Compute False postive rate, and True positive rate\n",
    "    fpr, tpr, thresholds = roc_curve(y_test, model.predict_proba(X_test)[:,1])\n",
    "# Calculate Area under the curve to display on the plot\n",
    "    plt.plot(fpr, tpr, label='%s ROC (area = %0.2f)' % (algo['label'], algo['auc']))\n",
    "# Custom settings for the plot\n",
    "plt.plot([0, 1], [0, 1],'r--')\n",
    "plt.xlim([0.0, 1.0])\n",
    "plt.ylim([0.0, 1.05])\n",
    "plt.xlabel('1-Specificity(False Positive Rate)')\n",
    "plt.ylabel('Sensitivity(True Positive Rate)')\n",
    "plt.title('Receiver Operating Characteristic')\n",
    "plt.legend(loc=\"lower right\")\n",
    "# plt.savefig(r\"./images/auc.png\")\n",
    "plt.show()   # Display"
   ]
  },
  {
   "cell_type": "markdown",
   "id": "4c1623ab-53c5-4aa0-86da-00f3714982c7",
   "metadata": {},
   "source": [
    "**Final report**"
   ]
  },
  {
   "cell_type": "code",
   "execution_count": 40,
   "id": "feba6fab-2005-43f9-8677-4e34d1f27f9c",
   "metadata": {},
   "outputs": [
    {
     "name": "stdout",
     "output_type": "stream",
     "text": [
      "FINAL MODEL 'CATBOOST'\n",
      "Accuracy Score value: 0.9854\n",
      "              precision    recall  f1-score   support\n",
      "\n",
      "           0       1.00      0.97      0.98       758\n",
      "           1       0.97      1.00      0.99       821\n",
      "\n",
      "    accuracy                           0.99      1579\n",
      "   macro avg       0.99      0.98      0.99      1579\n",
      "weighted avg       0.99      0.99      0.99      1579\n",
      "\n"
     ]
    }
   ],
   "source": [
    "best_model = CatBoostClassifier(**model_param['CatBoost'], verbose=False)\n",
    "best_model = best_model.fit(X_train,y_train)\n",
    "y_pred = best_model.predict(X_test)\n",
    "score = accuracy_score(y_test,y_pred)\n",
    "cr = classification_report(y_test,y_pred)\n",
    "\n",
    "print(\"FINAL MODEL 'CATBOOST'\")\n",
    "print (\"Accuracy Score value: {:.4f}\".format(score))\n",
    "print (cr)"
   ]
  },
  {
   "cell_type": "code",
   "execution_count": 41,
   "id": "fa2a5e36-b1c9-4810-b9e6-4f8bab78acf3",
   "metadata": {},
   "outputs": [
    {
     "data": {
      "text/plain": [
       "<sklearn.metrics._plot.confusion_matrix.ConfusionMatrixDisplay at 0x249d3b12cd0>"
      ]
     },
     "execution_count": 41,
     "metadata": {},
     "output_type": "execute_result"
    },
    {
     "data": {
      "image/png": "[encoded data removed]",
      "text/plain": [
       "<Figure size 640x480 with 2 Axes>"
      ]
     },
     "metadata": {},
     "output_type": "display_data"
    }
   ],
   "source": [
    "from sklearn.metrics import ConfusionMatrixDisplay\n",
    "ConfusionMatrixDisplay.from_estimator(best_model, X_test, y_test)"
   ]
  },
  {
   "cell_type": "markdown",
   "id": "ddfcf826-2af5-4dfd-ad69-6b9e16a671e8",
   "metadata": {},
   "source": [
    "***Best Model is CatBoost Classifier with 98.54 % Accuracy***"
   ]
  },
  {
   "cell_type": "code",
   "execution_count": null,
   "id": "2df9d992-200c-4a55-8930-4c504e299965",
   "metadata": {},
   "outputs": [],
   "source": []
  }
 ],
 "metadata": {
  "kernelspec": {
   "display_name": "hstroke",
   "language": "python",
   "name": "hstroke"
  },
  "language_info": {
   "codemirror_mode": {
    "name": "ipython",
    "version": 3
   },
   "file_extension": ".py",
   "mimetype": "text/x-python",
   "name": "python",
   "nbconvert_exporter": "python",
   "pygments_lexer": "ipython3",
   "version": "3.9.0"
  }
 },
 "nbformat": 4,
 "nbformat_minor": 5
}
